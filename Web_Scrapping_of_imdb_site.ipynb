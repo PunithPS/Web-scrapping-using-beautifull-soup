{
  "nbformat": 4,
  "nbformat_minor": 0,
  "metadata": {
    "colab": {
      "provenance": []
    },
    "kernelspec": {
      "name": "python3",
      "display_name": "Python 3"
    },
    "language_info": {
      "name": "python"
    }
  },
  "cells": [
    {
      "cell_type": "code",
      "execution_count": 13,
      "metadata": {
        "colab": {
          "base_uri": "https://localhost:8080/"
        },
        "id": "3ltJSqjQnY07",
        "outputId": "b6681239-ac0c-4be6-f137-913a01793d81"
      },
      "outputs": [
        {
          "output_type": "stream",
          "name": "stdout",
          "text": [
            "<Response [200]>\n",
            "IMDb Charts\n",
            "1. The Shawshank Redemption\n",
            "2. The Godfather\n",
            "3. The Dark Knight\n",
            "4. The Godfather Part II\n",
            "5. 12 Angry Men\n",
            "6. Schindler's List\n",
            "7. The Lord of the Rings: The Return of the King\n",
            "8. Pulp Fiction\n",
            "9. The Lord of the Rings: The Fellowship of the Ring\n",
            "10. The Good, the Bad and the Ugly\n",
            "11. Forrest Gump\n",
            "12. The Lord of the Rings: The Two Towers\n",
            "13. Fight Club\n",
            "14. Inception\n",
            "15. Star Wars: Episode V - The Empire Strikes Back\n",
            "16. The Matrix\n",
            "17. Goodfellas\n",
            "18. One Flew Over the Cuckoo's Nest\n",
            "19. Interstellar\n",
            "20. Se7en\n",
            "21. It's a Wonderful Life\n",
            "22. Seven Samurai\n",
            "23. The Silence of the Lambs\n",
            "24. Saving Private Ryan\n",
            "25. City of God\n",
            "Recently viewed\n"
          ]
        }
      ],
      "source": [
        "import requests\n",
        "import pandas as pd\n",
        "from bs4 import BeautifulSoup\n",
        "\n",
        "url = \"https://www.imdb.com/chart/top/\"\n",
        "response = requests.get(url,headers={\"User-Agent\":\"Mozilla/5.0 (Windows NT 10.0; Win64; x64) AppleWebKit/537.36 (KHTML, like Gecko) Chrome/127.0.0.0 Safari/537.36\"})\n",
        "print(response)\n",
        "soup = BeautifulSoup(response.text,'html.parser')\n",
        "\n"
      ]
    },
    {
      "cell_type": "code",
      "source": [
        "# Q1.Name of the movie\n",
        "movie_names = soup.find_all('h3',class_ = \"ipc-title__text\")\n",
        "\n",
        "for i in movie_names:\n",
        "  print(i.text)"
      ],
      "metadata": {
        "colab": {
          "base_uri": "https://localhost:8080/"
        },
        "id": "sOa78G6yw7qS",
        "outputId": "61eedb36-86c5-40dd-98f9-83ba0e2d90d5"
      },
      "execution_count": 15,
      "outputs": [
        {
          "output_type": "stream",
          "name": "stdout",
          "text": [
            "IMDb Charts\n",
            "1. The Shawshank Redemption\n",
            "2. The Godfather\n",
            "3. The Dark Knight\n",
            "4. The Godfather Part II\n",
            "5. 12 Angry Men\n",
            "6. Schindler's List\n",
            "7. The Lord of the Rings: The Return of the King\n",
            "8. Pulp Fiction\n",
            "9. The Lord of the Rings: The Fellowship of the Ring\n",
            "10. The Good, the Bad and the Ugly\n",
            "11. Forrest Gump\n",
            "12. The Lord of the Rings: The Two Towers\n",
            "13. Fight Club\n",
            "14. Inception\n",
            "15. Star Wars: Episode V - The Empire Strikes Back\n",
            "16. The Matrix\n",
            "17. Goodfellas\n",
            "18. One Flew Over the Cuckoo's Nest\n",
            "19. Interstellar\n",
            "20. Se7en\n",
            "21. It's a Wonderful Life\n",
            "22. Seven Samurai\n",
            "23. The Silence of the Lambs\n",
            "24. Saving Private Ryan\n",
            "25. City of God\n",
            "Recently viewed\n"
          ]
        }
      ]
    },
    {
      "cell_type": "code",
      "source": [
        "# Q2.Release Year of Movie.\n",
        "filter = soup.find_all('span',class_=\"sc-b189961a-8 hCbzGp cli-title-metadata-item\")\n",
        "\n",
        "year = []\n",
        "\n",
        "  #for t in release_year:\n",
        "   # print(t.text)\n",
        "\n",
        "for j in range(0,len(filter),3):\n",
        "  x = filter[j].text\n",
        "  year.append(x)\n",
        "\n",
        "release_year = pd.DataFrame(year)\n",
        "print(release_year)"
      ],
      "metadata": {
        "colab": {
          "base_uri": "https://localhost:8080/"
        },
        "id": "OaR68uGKxMkw",
        "outputId": "7f75ac32-e8d7-4ad8-dd1f-6c3dee91607f"
      },
      "execution_count": 36,
      "outputs": [
        {
          "output_type": "stream",
          "name": "stdout",
          "text": [
            "       0\n",
            "0   1994\n",
            "1   1972\n",
            "2   2008\n",
            "3   1974\n",
            "4   1957\n",
            "5   1993\n",
            "6   2003\n",
            "7   1994\n",
            "8   2001\n",
            "9   1966\n",
            "10  1994\n",
            "11  2002\n",
            "12  1999\n",
            "13  2010\n",
            "14  1980\n",
            "15  1999\n",
            "16  1990\n",
            "17  1975\n",
            "18  2014\n",
            "19  1995\n",
            "20  1946\n",
            "21  1954\n",
            "22  1991\n",
            "23  1998\n",
            "24  2002\n"
          ]
        }
      ]
    },
    {
      "cell_type": "code",
      "source": [
        "# Q3.Duration\n",
        "filter = soup.find_all('span',class_=\"sc-b189961a-8 hCbzGp cli-title-metadata-item\")\n",
        "duration = []\n",
        "for k in range(1,len(filter),3):\n",
        "  x = filter[k].text\n",
        "  duration.append(x)\n",
        "\n",
        "movie_duration = pd.DataFrame(duration)\n",
        "print(duration)\n"
      ],
      "metadata": {
        "colab": {
          "base_uri": "https://localhost:8080/"
        },
        "id": "6fdvUh2C4tIz",
        "outputId": "b4d08cdb-7f03-4317-a33f-0c8a71f20b06"
      },
      "execution_count": 41,
      "outputs": [
        {
          "output_type": "stream",
          "name": "stdout",
          "text": [
            "['2h 22m', '2h 55m', '2h 32m', '3h 22m', '1h 36m', '3h 15m', '3h 21m', '2h 34m', '2h 58m', '2h 58m', '2h 22m', '2h 59m', '2h 19m', '2h 28m', '2h 4m', '2h 16m', '2h 25m', '2h 13m', '2h 49m', '2h 7m', '2h 10m', '3h 27m', '1h 58m', '2h 49m', '2h 10m']\n"
          ]
        }
      ]
    },
    {
      "cell_type": "code",
      "source": [
        "# Q4.Grade\n",
        "filter = soup.find_all('span',class_=\"sc-b189961a-8 hCbzGp cli-title-metadata-item\")\n",
        "grade = []\n",
        "for p in range(2,len(filter),3):\n",
        "  x = filter[p].text\n",
        "  grade.append(x)\n",
        "\n",
        "movie_grade = pd.DataFrame(duration)\n",
        "print(duration)\n"
      ],
      "metadata": {
        "colab": {
          "base_uri": "https://localhost:8080/"
        },
        "id": "LfFCDErm6NDh",
        "outputId": "ebbceb4f-74a1-4308-bba6-145ac960c631"
      },
      "execution_count": 43,
      "outputs": [
        {
          "output_type": "stream",
          "name": "stdout",
          "text": [
            "['R', 'R', 'PG-13', 'R', 'Approved', 'R', 'PG-13', 'R', 'PG-13', 'R', 'PG-13', 'PG-13', 'R', 'PG-13', 'PG', 'R', 'R', 'R', 'PG-13', 'R', 'PG', 'Not Rated', 'R', 'R', 'R']\n"
          ]
        }
      ]
    },
    {
      "cell_type": "code",
      "source": [
        "# Q5. Rating\n",
        "filter = soup.find_all('span',class_=\"ipc-rating-star--rating\")\n",
        "\n",
        "rating = []\n",
        "\n",
        "for i in range(0,len(filter),2):\n",
        "  x = filter[i].text\n",
        "  rating.append(x)\n",
        "\n",
        "movie_rating = pd.DataFrame(rating)\n",
        "print(movie_rating)\n"
      ],
      "metadata": {
        "colab": {
          "base_uri": "https://localhost:8080/"
        },
        "id": "yejd9En96wSd",
        "outputId": "164a1c25-ec4b-4299-a90c-1cd4c664c262"
      },
      "execution_count": 50,
      "outputs": [
        {
          "output_type": "stream",
          "name": "stdout",
          "text": [
            "      0\n",
            "0   9.3\n",
            "1   9.0\n",
            "2   9.0\n",
            "3   9.0\n",
            "4   8.9\n",
            "5   8.8\n",
            "6   8.8\n",
            "7   8.7\n",
            "8   8.7\n",
            "9   8.7\n",
            "10  8.6\n",
            "11  8.6\n",
            "12  8.6\n"
          ]
        }
      ]
    },
    {
      "cell_type": "code",
      "source": [
        "filter = soup.find_all('span',class_=\"ipc-rating-star--voteCount\")\n",
        "vote_cnt = []\n",
        "\n",
        "for i in range(1,len(filter),2):\n",
        "  x = filter[i].text\n",
        "  vote_cnt.append(x)\n",
        "\n",
        "movie_vote_cnt = pd.DataFrame(vote_cnt)\n",
        "print(movie_vote_cnt)"
      ],
      "metadata": {
        "colab": {
          "base_uri": "https://localhost:8080/"
        },
        "id": "wJQCj6Jc76qi",
        "outputId": "0530d1da-849a-413f-ff06-d3239ba7fedf"
      },
      "execution_count": 49,
      "outputs": [
        {
          "output_type": "stream",
          "name": "stdout",
          "text": [
            "          0\n",
            "0      (2M)\n",
            "1    (1.4M)\n",
            "2    (1.5M)\n",
            "3    (2.2M)\n",
            "4    (819K)\n",
            "5    (1.8M)\n",
            "6    (2.6M)\n",
            "7    (2.1M)\n",
            "8    (1.1M)\n",
            "9    (1.8M)\n",
            "10   (370K)\n",
            "11   (1.5M)\n"
          ]
        }
      ]
    }
  ]
}