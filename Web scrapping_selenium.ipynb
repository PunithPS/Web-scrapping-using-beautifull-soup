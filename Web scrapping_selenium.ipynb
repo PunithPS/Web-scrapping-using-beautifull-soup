{
 "cells": [
  {
   "cell_type": "code",
   "execution_count": 33,
   "id": "e004ee69-5266-4305-9119-901dd31ef962",
   "metadata": {},
   "outputs": [
    {
     "name": "stdout",
     "output_type": "stream",
     "text": [
      "Requirement already satisfied: selenium in f:\\python\\lib\\site-packages (4.23.1)\n",
      "Requirement already satisfied: typing_extensions~=4.9 in f:\\python\\lib\\site-packages (from selenium) (4.12.2)\n",
      "Requirement already satisfied: websocket-client~=1.8 in f:\\python\\lib\\site-packages (from selenium) (1.8.0)\n",
      "Requirement already satisfied: trio-websocket~=0.9 in f:\\python\\lib\\site-packages (from selenium) (0.11.1)\n",
      "Requirement already satisfied: certifi>=2021.10.8 in f:\\python\\lib\\site-packages (from selenium) (2024.7.4)\n",
      "Requirement already satisfied: trio~=0.17 in f:\\python\\lib\\site-packages (from selenium) (0.26.2)\n",
      "Requirement already satisfied: urllib3[socks]<3,>=1.26 in f:\\python\\lib\\site-packages (from selenium) (2.2.2)\n",
      "Requirement already satisfied: exceptiongroup in f:\\python\\lib\\site-packages (from trio~=0.17->selenium) (1.2.2)\n",
      "Requirement already satisfied: sortedcontainers in f:\\python\\lib\\site-packages (from trio~=0.17->selenium) (2.4.0)\n",
      "Requirement already satisfied: idna in f:\\python\\lib\\site-packages (from trio~=0.17->selenium) (3.7)\n",
      "Requirement already satisfied: cffi>=1.14 in f:\\python\\lib\\site-packages (from trio~=0.17->selenium) (1.16.0)\n",
      "Requirement already satisfied: attrs>=23.2.0 in f:\\python\\lib\\site-packages (from trio~=0.17->selenium) (23.2.0)\n",
      "Requirement already satisfied: outcome in f:\\python\\lib\\site-packages (from trio~=0.17->selenium) (1.3.0.post0)\n",
      "Requirement already satisfied: sniffio>=1.3.0 in f:\\python\\lib\\site-packages (from trio~=0.17->selenium) (1.3.1)\n",
      "Requirement already satisfied: wsproto>=0.14 in f:\\python\\lib\\site-packages (from trio-websocket~=0.9->selenium) (1.2.0)\n",
      "Requirement already satisfied: pysocks!=1.5.7,<2.0,>=1.5.6 in f:\\python\\lib\\site-packages (from urllib3[socks]<3,>=1.26->selenium) (1.7.1)\n",
      "Requirement already satisfied: pycparser in f:\\python\\lib\\site-packages (from cffi>=1.14->trio~=0.17->selenium) (2.22)\n",
      "Requirement already satisfied: h11<1,>=0.9.0 in f:\\python\\lib\\site-packages (from wsproto>=0.14->trio-websocket~=0.9->selenium) (0.14.0)\n"
     ]
    },
    {
     "name": "stderr",
     "output_type": "stream",
     "text": [
      "WARNING: You are using pip version 22.0.4; however, version 24.2 is available.\n",
      "You should consider upgrading via the 'F:\\python\\python.exe -m pip install --upgrade pip' command.\n"
     ]
    }
   ],
   "source": [
    "! pip install selenium\n"
   ]
  },
  {
   "cell_type": "code",
   "execution_count": 34,
   "id": "5be15223-8911-4b2d-bcf5-3139cda6eae2",
   "metadata": {
    "scrolled": true
   },
   "outputs": [
    {
     "name": "stdout",
     "output_type": "stream",
     "text": [
      "Requirement already satisfied: webdriver_manager in f:\\python\\lib\\site-packages (4.0.2)\n",
      "Requirement already satisfied: python-dotenv in f:\\python\\lib\\site-packages (from webdriver_manager) (1.0.1)\n",
      "Requirement already satisfied: requests in f:\\python\\lib\\site-packages (from webdriver_manager) (2.32.3)\n",
      "Requirement already satisfied: packaging in f:\\python\\lib\\site-packages (from webdriver_manager) (24.1)\n",
      "Requirement already satisfied: charset-normalizer<4,>=2 in f:\\python\\lib\\site-packages (from requests->webdriver_manager) (3.3.2)\n",
      "Requirement already satisfied: urllib3<3,>=1.21.1 in f:\\python\\lib\\site-packages (from requests->webdriver_manager) (2.2.2)\n",
      "Requirement already satisfied: idna<4,>=2.5 in f:\\python\\lib\\site-packages (from requests->webdriver_manager) (3.7)\n",
      "Requirement already satisfied: certifi>=2017.4.17 in f:\\python\\lib\\site-packages (from requests->webdriver_manager) (2024.7.4)\n"
     ]
    },
    {
     "name": "stderr",
     "output_type": "stream",
     "text": [
      "WARNING: You are using pip version 22.0.4; however, version 24.2 is available.\n",
      "You should consider upgrading via the 'F:\\python\\python.exe -m pip install --upgrade pip' command.\n"
     ]
    }
   ],
   "source": [
    "! pip install webdriver_manager\n",
    "from selenium import webdriver\n",
    "from selenium.webdriver.common.by import By\n",
    "from selenium.webdriver.chrome.service import Service\n",
    "from webdriver_manager.chrome import ChromeDriverManager\n",
    "import csv"
   ]
  },
  {
   "cell_type": "code",
   "execution_count": 35,
   "id": "11beb4f5-e881-4bf2-b6a5-cb10381b944e",
   "metadata": {},
   "outputs": [],
   "source": [
    "driver = webdriver.Chrome(service = Service( ChromeDriverManager().install()))"
   ]
  },
  {
   "cell_type": "code",
   "execution_count": 37,
   "id": "98987b68-b283-4e28-abac-c2e9cd81549b",
   "metadata": {},
   "outputs": [],
   "source": [
    "driver.get('https://hoopshype.com/salaries/players/')"
   ]
  },
  {
   "cell_type": "code",
   "execution_count": 38,
   "id": "20506e4a-7eb7-4b77-91e4-9d27754c0c84",
   "metadata": {},
   "outputs": [],
   "source": [
    "# extracting player name and salaries\n",
    "\n",
    "players = driver.find_elements(By.XPATH, \"//td[@class=' name']\")\n",
    "salaries = driver.find_elements(By.XPATH, \"//td[@class='hh-salaries-sorted']\")"
   ]
  },
  {
   "cell_type": "code",
   "execution_count": 39,
   "id": "9d8ca48c-d8d6-4b19-8f25-2eeb6c8ad4df",
   "metadata": {},
   "outputs": [],
   "source": [
    "# open csv file to write the data\n",
    "with open('players-salaries.csv', mode = 'w', newline= '',encoding = 'utf-8') as file:\n",
    "    writer = csv.writer(file)\n",
    "    writer.writerow(['Player','Salary'])\n",
    "    \n",
    "    for player,salary in zip(players,salaries):\n",
    "        writer.writerow([player.text,salary.text])\n"
   ]
  },
  {
   "cell_type": "code",
   "execution_count": 31,
   "id": "9d293c84-0140-48a2-ba9c-f3015fecaeb5",
   "metadata": {},
   "outputs": [],
   "source": [
    "driver.quit()"
   ]
  },
  {
   "cell_type": "code",
   "execution_count": null,
   "id": "740614ae-1541-4e57-acbd-e6221b765933",
   "metadata": {},
   "outputs": [],
   "source": []
  }
 ],
 "metadata": {
  "kernelspec": {
   "display_name": "Python 3 (ipykernel)",
   "language": "python",
   "name": "python3"
  },
  "language_info": {
   "codemirror_mode": {
    "name": "ipython",
    "version": 3
   },
   "file_extension": ".py",
   "mimetype": "text/x-python",
   "name": "python",
   "nbconvert_exporter": "python",
   "pygments_lexer": "ipython3",
   "version": "3.10.4"
  }
 },
 "nbformat": 4,
 "nbformat_minor": 5
}
